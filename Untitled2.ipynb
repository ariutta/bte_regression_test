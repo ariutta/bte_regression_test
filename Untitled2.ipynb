{
 "cells": [
  {
   "cell_type": "code",
   "execution_count": null,
   "metadata": {},
   "outputs": [],
   "source": [
    "import pandas as pd"
   ]
  },
  {
   "cell_type": "code",
   "execution_count": null,
   "metadata": {},
   "outputs": [],
   "source": [
    "data = pd.read_csv(\"./results/full_results.csv\")"
   ]
  },
  {
   "cell_type": "code",
   "execution_count": 50,
   "metadata": {},
   "outputs": [
    {
     "output_type": "execute_result",
     "data": {
      "text/plain": [
       "   gard id     unii id disease - chemical disease - gene - chemical  \\\n",
       "0   7887.0  GR120KRT6K               TRUE                     FALSE   \n",
       "1    522.0  RBZ1571X5H              FALSE                     FALSE   \n",
       "2    522.0  RBZ1571X5H              FALSE                     FALSE   \n",
       "3   6105.0  RBZ1571X5H              FALSE                     FALSE   \n",
       "4   6105.0  RBZ1571X5H              FALSE                     FALSE   \n",
       "\n",
       "  disease-phenotype-gene-chemical disease-subclass-disease-gene-chemical  \\\n",
       "0                           FALSE                                  FALSE   \n",
       "1                           FALSE                                  FALSE   \n",
       "2                           FALSE                                  FALSE   \n",
       "3                            TRUE                                  FALSE   \n",
       "4                            TRUE                                  FALSE   \n",
       "\n",
       "  disease-variant-gene-chemical disease-causing_gene-gene-chemical  \\\n",
       "0                         FALSE                              FALSE   \n",
       "1                         FALSE                              FALSE   \n",
       "2                         FALSE                              FALSE   \n",
       "3                          TRUE                              FALSE   \n",
       "4                          TRUE                              FALSE   \n",
       "\n",
       "  disease-gene-gene-chemical  \n",
       "0                      FALSE  \n",
       "1                      FALSE  \n",
       "2                      FALSE  \n",
       "3                      FALSE  \n",
       "4                      FALSE  "
      ],
      "text/html": "<div>\n<style scoped>\n    .dataframe tbody tr th:only-of-type {\n        vertical-align: middle;\n    }\n\n    .dataframe tbody tr th {\n        vertical-align: top;\n    }\n\n    .dataframe thead th {\n        text-align: right;\n    }\n</style>\n<table border=\"1\" class=\"dataframe\">\n  <thead>\n    <tr style=\"text-align: right;\">\n      <th></th>\n      <th>gard id</th>\n      <th>unii id</th>\n      <th>disease - chemical</th>\n      <th>disease - gene - chemical</th>\n      <th>disease-phenotype-gene-chemical</th>\n      <th>disease-subclass-disease-gene-chemical</th>\n      <th>disease-variant-gene-chemical</th>\n      <th>disease-causing_gene-gene-chemical</th>\n      <th>disease-gene-gene-chemical</th>\n    </tr>\n  </thead>\n  <tbody>\n    <tr>\n      <th>0</th>\n      <td>7887.0</td>\n      <td>GR120KRT6K</td>\n      <td>TRUE</td>\n      <td>FALSE</td>\n      <td>FALSE</td>\n      <td>FALSE</td>\n      <td>FALSE</td>\n      <td>FALSE</td>\n      <td>FALSE</td>\n    </tr>\n    <tr>\n      <th>1</th>\n      <td>522.0</td>\n      <td>RBZ1571X5H</td>\n      <td>FALSE</td>\n      <td>FALSE</td>\n      <td>FALSE</td>\n      <td>FALSE</td>\n      <td>FALSE</td>\n      <td>FALSE</td>\n      <td>FALSE</td>\n    </tr>\n    <tr>\n      <th>2</th>\n      <td>522.0</td>\n      <td>RBZ1571X5H</td>\n      <td>FALSE</td>\n      <td>FALSE</td>\n      <td>FALSE</td>\n      <td>FALSE</td>\n      <td>FALSE</td>\n      <td>FALSE</td>\n      <td>FALSE</td>\n    </tr>\n    <tr>\n      <th>3</th>\n      <td>6105.0</td>\n      <td>RBZ1571X5H</td>\n      <td>FALSE</td>\n      <td>FALSE</td>\n      <td>TRUE</td>\n      <td>FALSE</td>\n      <td>TRUE</td>\n      <td>FALSE</td>\n      <td>FALSE</td>\n    </tr>\n    <tr>\n      <th>4</th>\n      <td>6105.0</td>\n      <td>RBZ1571X5H</td>\n      <td>FALSE</td>\n      <td>FALSE</td>\n      <td>TRUE</td>\n      <td>FALSE</td>\n      <td>TRUE</td>\n      <td>FALSE</td>\n      <td>FALSE</td>\n    </tr>\n  </tbody>\n</table>\n</div>"
     },
     "metadata": {},
     "execution_count": 50
    }
   ],
   "source": [
    "data.head()"
   ]
  },
  {
   "cell_type": "code",
   "execution_count": 51,
   "metadata": {},
   "outputs": [
    {
     "output_type": "execute_result",
     "data": {
      "text/plain": [
       "Index(['gard id', 'unii id', 'disease - chemical', 'disease - gene - chemical',\n",
       "       'disease-phenotype-gene-chemical',\n",
       "       'disease-subclass-disease-gene-chemical',\n",
       "       'disease-variant-gene-chemical', 'disease-causing_gene-gene-chemical',\n",
       "       'disease-gene-gene-chemical'],\n",
       "      dtype='object')"
      ]
     },
     "metadata": {},
     "execution_count": 51
    }
   ],
   "source": [
    "data.columns"
   ]
  },
  {
   "cell_type": "code",
   "execution_count": null,
   "metadata": {},
   "outputs": [],
   "source": [
    "data = data.dropna()"
   ]
  },
  {
   "cell_type": "code",
   "execution_count": null,
   "metadata": {},
   "outputs": [],
   "source": [
    "def summarize(column_name):\n",
    "    hits = data.loc[(data[column_name] == \"TRUE\")]\n",
    "    unique_hits = data.loc[(data[column_name] == \"TRUE\") & (data[\"disease - chemical\"] == \"FALSE\")]\n",
    "    failed = data.loc[(data[column_name] == \"failed\")]\n",
    "    notfound = data.loc[(data[column_name] == \"FALSE\")]\n",
    "    print(\"Query path: \", column_name)\n",
    "    print(\"Total number of pairs found: \", hits.shape[0])\n",
    "    print(\"Total number of pairs found in this path but not direct path: \", unique_hits.shape[0])\n",
    "    print(\"Total number of pairs not found: \", notfound.shape[0])\n",
    "    print(\"Total number of pairs that query fails: \", failed.shape[0])"
   ]
  },
  {
   "cell_type": "code",
   "execution_count": 43,
   "metadata": {},
   "outputs": [
    {
     "output_type": "stream",
     "name": "stdout",
     "text": [
      "Query path:  disease - chemical\nTotal number of pairs found:  464\nTotal number of pairs found in this path but not direct path:  0\nTotal number of pairs not found:  1425\nTotal number of pairs that query fails:  5\n"
     ]
    }
   ],
   "source": [
    "summarize(\"disease - chemical\")"
   ]
  },
  {
   "cell_type": "code",
   "execution_count": 44,
   "metadata": {},
   "outputs": [
    {
     "output_type": "stream",
     "name": "stdout",
     "text": [
      "Query path:  disease - gene - chemical\nTotal number of pairs found:  87\nTotal number of pairs found in this path but not direct path:  19\nTotal number of pairs not found:  1806\nTotal number of pairs that query fails:  1\n"
     ]
    }
   ],
   "source": [
    "summarize(\"disease - gene - chemical\")"
   ]
  },
  {
   "cell_type": "code",
   "execution_count": 45,
   "metadata": {},
   "outputs": [
    {
     "output_type": "stream",
     "name": "stdout",
     "text": [
      "Query path:  disease-phenotype-gene-chemical\nTotal number of pairs found:  47\nTotal number of pairs found in this path but not direct path:  9\nTotal number of pairs not found:  1356\nTotal number of pairs that query fails:  491\n"
     ]
    }
   ],
   "source": [
    "summarize(\"disease-phenotype-gene-chemical\")"
   ]
  },
  {
   "cell_type": "code",
   "execution_count": 46,
   "metadata": {},
   "outputs": [
    {
     "output_type": "stream",
     "name": "stdout",
     "text": [
      "Query path:  disease-subclass-disease-gene-chemical\nTotal number of pairs found:  20\nTotal number of pairs found in this path but not direct path:  7\nTotal number of pairs not found:  1872\nTotal number of pairs that query fails:  2\n"
     ]
    }
   ],
   "source": [
    "summarize(\"disease-subclass-disease-gene-chemical\")"
   ]
  },
  {
   "cell_type": "code",
   "execution_count": 47,
   "metadata": {},
   "outputs": [
    {
     "output_type": "stream",
     "name": "stdout",
     "text": [
      "Query path:  disease-variant-gene-chemical\nTotal number of pairs found:  52\nTotal number of pairs found in this path but not direct path:  15\nTotal number of pairs not found:  1810\nTotal number of pairs that query fails:  32\n"
     ]
    }
   ],
   "source": [
    "summarize(\"disease-variant-gene-chemical\")"
   ]
  },
  {
   "cell_type": "code",
   "execution_count": 48,
   "metadata": {},
   "outputs": [
    {
     "output_type": "stream",
     "name": "stdout",
     "text": [
      "Query path:  disease-causing_gene-gene-chemical\nTotal number of pairs found:  11\nTotal number of pairs found in this path but not direct path:  3\nTotal number of pairs not found:  1881\nTotal number of pairs that query fails:  2\n"
     ]
    }
   ],
   "source": [
    "summarize(\"disease-causing_gene-gene-chemical\")"
   ]
  },
  {
   "cell_type": "code",
   "execution_count": 49,
   "metadata": {},
   "outputs": [
    {
     "output_type": "stream",
     "name": "stdout",
     "text": [
      "Query path:  disease-gene-gene-chemical\nTotal number of pairs found:  44\nTotal number of pairs found in this path but not direct path:  11\nTotal number of pairs not found:  1839\nTotal number of pairs that query fails:  11\n"
     ]
    }
   ],
   "source": [
    "summarize(\"disease-gene-gene-chemical\")"
   ]
  },
  {
   "cell_type": "code",
   "execution_count": null,
   "metadata": {},
   "outputs": [],
   "source": []
  }
 ],
 "metadata": {
  "kernelspec": {
   "name": "python3",
   "display_name": "Python 3.6.5 64-bit ('ENV': venv)",
   "metadata": {
    "interpreter": {
     "hash": "51de51f798d5a9f71f0d253622aabae47c7196120dd94910eb67d3e6dfe66204"
    }
   }
  }
 },
 "nbformat": 4,
 "nbformat_minor": 5
}